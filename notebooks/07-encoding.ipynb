{
 "cells": [
  {
   "attachments": {},
   "cell_type": "markdown",
   "id": "71218024-7b0a-4436-9260-a685185ef8f1",
   "metadata": {},
   "source": [
    "---\n",
    "# Notebook para criação de encoders e gerar base transformada para ajustarmos o modelo \n",
    "\n",
    "---"
   ]
  },
  {
   "cell_type": "markdown",
   "id": "def62c9a-728e-468b-bd86-3e912b210c5b",
   "metadata": {},
   "source": [
    "# Imports"
   ]
  },
  {
   "cell_type": "code",
   "execution_count": 1,
   "id": "e5081206-ceb5-4ad2-9e02-143ad4fd2cd5",
   "metadata": {},
   "outputs": [],
   "source": [
    "import pandas as pd\n",
    "import numpy as np\n",
    "import os\n",
    "from pathlib import Path\n",
    "import warnings\n",
    "\n",
    "from src.utils.features_manager import get_features_by_property\n",
    "from src.utils.transformers import (\n",
    "    FeaturesType,\n",
    "    NumericMissing,\n",
    "    OptBinningEncoder,\n",
    "    BuildFeatures\n",
    ")\n",
    "\n",
    "# Configs Pandas\n",
    "pd.options.display.max_columns = None\n",
    "pd.options.display.max_colwidth = 200\n",
    "\n",
    "warnings.filterwarnings(\"ignore\")"
   ]
  },
  {
   "cell_type": "code",
   "execution_count": 2,
   "id": "f554cfd6-788e-4b54-addd-6160b40642e2",
   "metadata": {},
   "outputs": [],
   "source": [
    "project_root = Path().resolve().parents[0]"
   ]
  },
  {
   "cell_type": "code",
   "execution_count": 3,
   "id": "97c1e93c-ac25-4b81-b9fb-03ae759d0f58",
   "metadata": {},
   "outputs": [],
   "source": [
    "df = pd.read_parquet(os.path.join(project_root, \"data\", \"interim\", \"train.parquet\"))"
   ]
  },
  {
   "cell_type": "code",
   "execution_count": 4,
   "id": "6fa063fd",
   "metadata": {},
   "outputs": [],
   "source": [
    "features_config_path = os.path.join(project_root, \"src\", \"data\", \"config\", \"features.yaml\")"
   ]
  },
  {
   "cell_type": "markdown",
   "id": "5ebe6bfb",
   "metadata": {},
   "source": [
    "# Criando Encoders"
   ]
  },
  {
   "cell_type": "markdown",
   "id": "8375b653",
   "metadata": {},
   "source": [
    "## Features Types"
   ]
  },
  {
   "cell_type": "code",
   "execution_count": 5,
   "id": "524d2111",
   "metadata": {},
   "outputs": [],
   "source": [
    "features_dtypes = {\n",
    "    \"binary\": get_features_by_property(features_config_path, property_name=\"type\", property_value=\"binary\"),\n",
    "    \"categorical\": get_features_by_property(features_config_path, property_name=\"type\", property_value=\"categorical\"),\n",
    "    \"numerical\": get_features_by_property(features_config_path, property_name=\"type\", property_value=\"numerical\"),\n",
    "    \"datetime\": get_features_by_property(features_config_path, property_name=\"type\", property_value=\"datetime\")\n",
    "}\n",
    "\n",
    "for dtype in features_dtypes:\n",
    "    features_dtypes[dtype] = [\n",
    "        feature for feature in features_dtypes[dtype]\n",
    "        if feature in get_features_by_property(features_config_path, \"created\", False)\n",
    "        and feature in df.columns\n",
    "    ]\n",
    "\n",
    "features_type = FeaturesType(dtypes=features_dtypes)\n",
    "features_type.fit(df)\n",
    "df = features_type.transform(df)"
   ]
  },
  {
   "cell_type": "markdown",
   "id": "b0dd41f8",
   "metadata": {},
   "source": [
    "## Build Features"
   ]
  },
  {
   "cell_type": "code",
   "execution_count": 6,
   "id": "84bb2685",
   "metadata": {},
   "outputs": [],
   "source": [
    "ratio_features = [\n",
    "    feat for feat in get_features_by_property(features_config_path, property_name=\"role\", property_value=\"descriptive\") # descriptive features\n",
    "    if feat in get_features_by_property(features_config_path, property_name=\"type\", property_value=\"numerical\") # numerical features\n",
    "    and feat != \"monto\" # exclude target feature\n",
    "    and feat in df.columns # check if feature is in the dataframe \n",
    "]"
   ]
  },
  {
   "cell_type": "code",
   "execution_count": 7,
   "id": "ca49b6ba",
   "metadata": {},
   "outputs": [],
   "source": [
    "build_features = BuildFeatures(inference=False, ratio_features=ratio_features)\n",
    "build_features.fit(df)\n",
    "df = build_features.transform(df)"
   ]
  },
  {
   "cell_type": "markdown",
   "id": "0e3e2ae4",
   "metadata": {},
   "source": [
    "## Fill Numeric Missing"
   ]
  },
  {
   "cell_type": "code",
   "execution_count": 8,
   "id": "18cbc23a",
   "metadata": {},
   "outputs": [],
   "source": [
    "features_fill_numeric = get_features_by_property(features_config_path, \"fill_numeric_missing\", True)\n",
    "fill_numeric = NumericMissing(features_fill_numeric)\n",
    "fill_numeric.fit(df)\n",
    "df = fill_numeric.transform(df)"
   ]
  },
  {
   "cell_type": "markdown",
   "id": "c7320a9a",
   "metadata": {},
   "source": [
    "## OptBinningEncoding"
   ]
  },
  {
   "cell_type": "code",
   "execution_count": 9,
   "id": "9ffff4d4",
   "metadata": {},
   "outputs": [],
   "source": [
    "features_to_encode = get_features_by_property(yaml_path=features_config_path, property_name=\"encode\", property_value=True)\n",
    "string_encoder = OptBinningEncoder(features_to_encode)\n",
    "string_encoder.fit(df, df[\"fraude\"])\n",
    "df = string_encoder.transform(df)"
   ]
  },
  {
   "cell_type": "markdown",
   "id": "4d575aef",
   "metadata": {},
   "source": [
    "## Feature Selector"
   ]
  },
  {
   "cell_type": "code",
   "execution_count": 10,
   "id": "ff5eb050",
   "metadata": {},
   "outputs": [],
   "source": [
    "from sklearn.base import BaseEstimator, TransformerMixin\n",
    "\n",
    "class Selector(BaseEstimator, TransformerMixin):\n",
    "    def __init__(self, features):\n",
    "        self.features = features\n",
    "\n",
    "    def fit(self, X, y=None):\n",
    "        return self\n",
    "\n",
    "    def transform(self, X):\n",
    "        return X[self.features]"
   ]
  },
  {
   "cell_type": "code",
   "execution_count": 11,
   "id": "2b7169b0",
   "metadata": {},
   "outputs": [],
   "source": [
    "seletor = 'boruta'\n",
    "features_selected = get_features_by_property(yaml_path=features_config_path, property_name=f\"selected_by_{seletor}\", property_value=True)\n",
    "selector = Selector(features=features_selected)\n",
    "selector.fit(df)\n",
    "df = selector.transform(df)"
   ]
  },
  {
   "cell_type": "markdown",
   "id": "680ef269",
   "metadata": {},
   "source": [
    "# Executando encoders em sequência, para gerar base encodada\n",
    "\n",
    "Antes, vamos salvar as colunas auxiliares que serão utilizadas também."
   ]
  },
  {
   "cell_type": "code",
   "execution_count": 12,
   "id": "0b042538",
   "metadata": {},
   "outputs": [],
   "source": [
    "df = pd.read_parquet(os.path.join(project_root, \"data\", \"interim\", \"train.parquet\")) # recarregando o dataframe"
   ]
  },
  {
   "cell_type": "code",
   "execution_count": 13,
   "id": "0096aa08",
   "metadata": {},
   "outputs": [],
   "source": [
    "features_auxiliares = get_features_by_property(yaml_path=features_config_path, property_name=\"role\", property_value=\"auxiliary\")\n",
    "features_auxiliares = [feat for feat in features_auxiliares if feat in df.columns]\n",
    "df_aux = df[features_auxiliares].copy()"
   ]
  },
  {
   "cell_type": "code",
   "execution_count": 25,
   "id": "d5354f52",
   "metadata": {},
   "outputs": [],
   "source": [
    "transformers = {\n",
    "    \"feature_type\": features_type,\n",
    "    \"build_features\": build_features,\n",
    "    \"fill_numeric\": fill_numeric,\n",
    "    \"string_encoder\": string_encoder,\n",
    "    \"selector\": selector\n",
    "}"
   ]
  },
  {
   "cell_type": "code",
   "execution_count": 29,
   "id": "b0c05b70",
   "metadata": {},
   "outputs": [],
   "source": [
    "def apply_encoders_transformations(X, transformers, features_auxiliares):\n",
    "    \n",
    "    df_aux = df[features_auxiliares].copy()\n",
    "    \n",
    "    for name, transformer in transformers.items():\n",
    "        print(f\"Applying {name} transformation\")\n",
    "        X = transformer.transform(X)\n",
    "\n",
    "    X[features_auxiliares] = df_aux\n",
    "    \n",
    "    return X"
   ]
  },
  {
   "cell_type": "code",
   "execution_count": 30,
   "id": "141aeb9b",
   "metadata": {},
   "outputs": [
    {
     "name": "stdout",
     "output_type": "stream",
     "text": [
      "Applying feature_type transformation\n",
      "Applying build_features transformation\n",
      "Applying fill_numeric transformation\n",
      "Applying string_encoder transformation\n",
      "Applying selector transformation\n"
     ]
    }
   ],
   "source": [
    "df_transformed = apply_encoders_transformations(df, transformers, features_auxiliares)"
   ]
  },
  {
   "cell_type": "code",
   "execution_count": 31,
   "id": "97c18aa0",
   "metadata": {},
   "outputs": [
    {
     "data": {
      "text/plain": [
       "(114506, 36)"
      ]
     },
     "execution_count": 31,
     "metadata": {},
     "output_type": "execute_result"
    }
   ],
   "source": [
    "df_transformed.shape"
   ]
  },
  {
   "cell_type": "code",
   "execution_count": 32,
   "id": "3e80a879",
   "metadata": {},
   "outputs": [
    {
     "data": {
      "text/html": [
       "<div>\n",
       "<style scoped>\n",
       "    .dataframe tbody tr th:only-of-type {\n",
       "        vertical-align: middle;\n",
       "    }\n",
       "\n",
       "    .dataframe tbody tr th {\n",
       "        vertical-align: top;\n",
       "    }\n",
       "\n",
       "    .dataframe thead th {\n",
       "        text-align: right;\n",
       "    }\n",
       "</style>\n",
       "<table border=\"1\" class=\"dataframe\">\n",
       "  <thead>\n",
       "    <tr style=\"text-align: right;\">\n",
       "      <th></th>\n",
       "      <th>monto</th>\n",
       "      <th>a</th>\n",
       "      <th>b</th>\n",
       "      <th>c</th>\n",
       "      <th>d</th>\n",
       "      <th>e</th>\n",
       "      <th>f</th>\n",
       "      <th>g</th>\n",
       "      <th>h</th>\n",
       "      <th>l</th>\n",
       "      <th>m</th>\n",
       "      <th>n</th>\n",
       "      <th>o</th>\n",
       "      <th>p</th>\n",
       "      <th>hour</th>\n",
       "      <th>dawn_operation</th>\n",
       "      <th>monto_div_a</th>\n",
       "      <th>monto_div_b</th>\n",
       "      <th>monto_div_c</th>\n",
       "      <th>monto_div_d</th>\n",
       "      <th>monto_div_e</th>\n",
       "      <th>monto_div_f</th>\n",
       "      <th>monto_div_h</th>\n",
       "      <th>monto_div_k</th>\n",
       "      <th>monto_div_l</th>\n",
       "      <th>monto_div_m</th>\n",
       "      <th>monto_div_hour</th>\n",
       "      <th>monto_div_weekday</th>\n",
       "      <th>N_op</th>\n",
       "      <th>f_lower</th>\n",
       "      <th>l_lower</th>\n",
       "      <th>m_lower</th>\n",
       "      <th>n_lower</th>\n",
       "      <th>fecha</th>\n",
       "      <th>index</th>\n",
       "      <th>week_of_the_year</th>\n",
       "    </tr>\n",
       "  </thead>\n",
       "  <tbody>\n",
       "    <tr>\n",
       "      <th>0</th>\n",
       "      <td>5.64</td>\n",
       "      <td>4.0</td>\n",
       "      <td>0.7685</td>\n",
       "      <td>94436.24</td>\n",
       "      <td>20.0</td>\n",
       "      <td>0.444828</td>\n",
       "      <td>1.0</td>\n",
       "      <td>-0.093884</td>\n",
       "      <td>5.0</td>\n",
       "      <td>240.0</td>\n",
       "      <td>102.0</td>\n",
       "      <td>1.0</td>\n",
       "      <td>-100.0</td>\n",
       "      <td>0.0</td>\n",
       "      <td>11</td>\n",
       "      <td>0.0</td>\n",
       "      <td>1.4100</td>\n",
       "      <td>7.338972</td>\n",
       "      <td>0.000060</td>\n",
       "      <td>0.282000</td>\n",
       "      <td>12.679070</td>\n",
       "      <td>5.640000</td>\n",
       "      <td>1.128000</td>\n",
       "      <td>6.382994</td>\n",
       "      <td>0.023500</td>\n",
       "      <td>0.055294</td>\n",
       "      <td>0.512727</td>\n",
       "      <td>1.410000</td>\n",
       "      <td>0.0</td>\n",
       "      <td>False</td>\n",
       "      <td>False</td>\n",
       "      <td>False</td>\n",
       "      <td>False</td>\n",
       "      <td>2020-03-27 11:51:16</td>\n",
       "      <td>0</td>\n",
       "      <td>13</td>\n",
       "    </tr>\n",
       "    <tr>\n",
       "      <th>1</th>\n",
       "      <td>339.32</td>\n",
       "      <td>4.0</td>\n",
       "      <td>0.7455</td>\n",
       "      <td>242549.09</td>\n",
       "      <td>3.0</td>\n",
       "      <td>0.000000</td>\n",
       "      <td>19.0</td>\n",
       "      <td>0.361803</td>\n",
       "      <td>23.0</td>\n",
       "      <td>1779.0</td>\n",
       "      <td>77.0</td>\n",
       "      <td>1.0</td>\n",
       "      <td>-100.0</td>\n",
       "      <td>0.0</td>\n",
       "      <td>18</td>\n",
       "      <td>0.0</td>\n",
       "      <td>84.8300</td>\n",
       "      <td>455.157612</td>\n",
       "      <td>0.001399</td>\n",
       "      <td>113.106667</td>\n",
       "      <td>-100.000000</td>\n",
       "      <td>17.858947</td>\n",
       "      <td>14.753043</td>\n",
       "      <td>657.128086</td>\n",
       "      <td>0.190736</td>\n",
       "      <td>4.406753</td>\n",
       "      <td>18.851111</td>\n",
       "      <td>169.660000</td>\n",
       "      <td>0.0</td>\n",
       "      <td>False</td>\n",
       "      <td>False</td>\n",
       "      <td>False</td>\n",
       "      <td>False</td>\n",
       "      <td>2020-03-25 18:13:38</td>\n",
       "      <td>2</td>\n",
       "      <td>13</td>\n",
       "    </tr>\n",
       "    <tr>\n",
       "      <th>2</th>\n",
       "      <td>3.53</td>\n",
       "      <td>2.0</td>\n",
       "      <td>0.7315</td>\n",
       "      <td>5728.68</td>\n",
       "      <td>15.0</td>\n",
       "      <td>0.000000</td>\n",
       "      <td>1.0</td>\n",
       "      <td>-0.093884</td>\n",
       "      <td>2.0</td>\n",
       "      <td>1025.0</td>\n",
       "      <td>150.0</td>\n",
       "      <td>1.0</td>\n",
       "      <td>-100.0</td>\n",
       "      <td>0.0</td>\n",
       "      <td>10</td>\n",
       "      <td>0.0</td>\n",
       "      <td>1.7650</td>\n",
       "      <td>4.825701</td>\n",
       "      <td>0.000616</td>\n",
       "      <td>0.235333</td>\n",
       "      <td>-100.000000</td>\n",
       "      <td>3.530000</td>\n",
       "      <td>1.765000</td>\n",
       "      <td>4.124804</td>\n",
       "      <td>0.003444</td>\n",
       "      <td>0.023533</td>\n",
       "      <td>0.353000</td>\n",
       "      <td>1.176667</td>\n",
       "      <td>0.0</td>\n",
       "      <td>False</td>\n",
       "      <td>False</td>\n",
       "      <td>False</td>\n",
       "      <td>False</td>\n",
       "      <td>2020-04-02 10:24:45</td>\n",
       "      <td>4</td>\n",
       "      <td>14</td>\n",
       "    </tr>\n",
       "    <tr>\n",
       "      <th>3</th>\n",
       "      <td>10.56</td>\n",
       "      <td>4.0</td>\n",
       "      <td>0.5962</td>\n",
       "      <td>7121.78</td>\n",
       "      <td>2.0</td>\n",
       "      <td>0.398000</td>\n",
       "      <td>0.0</td>\n",
       "      <td>-0.093884</td>\n",
       "      <td>11.0</td>\n",
       "      <td>127.0</td>\n",
       "      <td>125.0</td>\n",
       "      <td>0.0</td>\n",
       "      <td>-100.0</td>\n",
       "      <td>0.0</td>\n",
       "      <td>19</td>\n",
       "      <td>0.0</td>\n",
       "      <td>2.6400</td>\n",
       "      <td>17.712177</td>\n",
       "      <td>0.001483</td>\n",
       "      <td>5.280000</td>\n",
       "      <td>26.532663</td>\n",
       "      <td>-100.000000</td>\n",
       "      <td>0.960000</td>\n",
       "      <td>51.514416</td>\n",
       "      <td>0.083150</td>\n",
       "      <td>0.084480</td>\n",
       "      <td>0.555789</td>\n",
       "      <td>1.760000</td>\n",
       "      <td>0.0</td>\n",
       "      <td>True</td>\n",
       "      <td>True</td>\n",
       "      <td>False</td>\n",
       "      <td>True</td>\n",
       "      <td>2020-03-22 19:20:24</td>\n",
       "      <td>6</td>\n",
       "      <td>12</td>\n",
       "    </tr>\n",
       "    <tr>\n",
       "      <th>4</th>\n",
       "      <td>6.13</td>\n",
       "      <td>4.0</td>\n",
       "      <td>0.6806</td>\n",
       "      <td>1656.95</td>\n",
       "      <td>50.0</td>\n",
       "      <td>1.043077</td>\n",
       "      <td>0.0</td>\n",
       "      <td>-0.093884</td>\n",
       "      <td>11.0</td>\n",
       "      <td>363.0</td>\n",
       "      <td>224.0</td>\n",
       "      <td>0.0</td>\n",
       "      <td>-100.0</td>\n",
       "      <td>0.0</td>\n",
       "      <td>11</td>\n",
       "      <td>0.0</td>\n",
       "      <td>1.5325</td>\n",
       "      <td>9.006759</td>\n",
       "      <td>0.003700</td>\n",
       "      <td>0.122600</td>\n",
       "      <td>5.876844</td>\n",
       "      <td>-100.000000</td>\n",
       "      <td>0.557273</td>\n",
       "      <td>10.768929</td>\n",
       "      <td>0.016887</td>\n",
       "      <td>0.027366</td>\n",
       "      <td>0.557273</td>\n",
       "      <td>1.021667</td>\n",
       "      <td>0.0</td>\n",
       "      <td>True</td>\n",
       "      <td>False</td>\n",
       "      <td>False</td>\n",
       "      <td>True</td>\n",
       "      <td>2020-04-12 11:49:54</td>\n",
       "      <td>7</td>\n",
       "      <td>15</td>\n",
       "    </tr>\n",
       "  </tbody>\n",
       "</table>\n",
       "</div>"
      ],
      "text/plain": [
       "    monto    a       b          c     d         e     f         g     h  \\\n",
       "0    5.64  4.0  0.7685   94436.24  20.0  0.444828   1.0 -0.093884   5.0   \n",
       "1  339.32  4.0  0.7455  242549.09   3.0  0.000000  19.0  0.361803  23.0   \n",
       "2    3.53  2.0  0.7315    5728.68  15.0  0.000000   1.0 -0.093884   2.0   \n",
       "3   10.56  4.0  0.5962    7121.78   2.0  0.398000   0.0 -0.093884  11.0   \n",
       "4    6.13  4.0  0.6806    1656.95  50.0  1.043077   0.0 -0.093884  11.0   \n",
       "\n",
       "        l      m    n      o    p  hour  dawn_operation  monto_div_a  \\\n",
       "0   240.0  102.0  1.0 -100.0  0.0    11             0.0       1.4100   \n",
       "1  1779.0   77.0  1.0 -100.0  0.0    18             0.0      84.8300   \n",
       "2  1025.0  150.0  1.0 -100.0  0.0    10             0.0       1.7650   \n",
       "3   127.0  125.0  0.0 -100.0  0.0    19             0.0       2.6400   \n",
       "4   363.0  224.0  0.0 -100.0  0.0    11             0.0       1.5325   \n",
       "\n",
       "   monto_div_b  monto_div_c  monto_div_d  monto_div_e  monto_div_f  \\\n",
       "0     7.338972     0.000060     0.282000    12.679070     5.640000   \n",
       "1   455.157612     0.001399   113.106667  -100.000000    17.858947   \n",
       "2     4.825701     0.000616     0.235333  -100.000000     3.530000   \n",
       "3    17.712177     0.001483     5.280000    26.532663  -100.000000   \n",
       "4     9.006759     0.003700     0.122600     5.876844  -100.000000   \n",
       "\n",
       "   monto_div_h  monto_div_k  monto_div_l  monto_div_m  monto_div_hour  \\\n",
       "0     1.128000     6.382994     0.023500     0.055294        0.512727   \n",
       "1    14.753043   657.128086     0.190736     4.406753       18.851111   \n",
       "2     1.765000     4.124804     0.003444     0.023533        0.353000   \n",
       "3     0.960000    51.514416     0.083150     0.084480        0.555789   \n",
       "4     0.557273    10.768929     0.016887     0.027366        0.557273   \n",
       "\n",
       "   monto_div_weekday  N_op  f_lower  l_lower  m_lower  n_lower  \\\n",
       "0           1.410000   0.0    False    False    False    False   \n",
       "1         169.660000   0.0    False    False    False    False   \n",
       "2           1.176667   0.0    False    False    False    False   \n",
       "3           1.760000   0.0     True     True    False     True   \n",
       "4           1.021667   0.0     True    False    False     True   \n",
       "\n",
       "                fecha  index  week_of_the_year  \n",
       "0 2020-03-27 11:51:16      0                13  \n",
       "1 2020-03-25 18:13:38      2                13  \n",
       "2 2020-04-02 10:24:45      4                14  \n",
       "3 2020-03-22 19:20:24      6                12  \n",
       "4 2020-04-12 11:49:54      7                15  "
      ]
     },
     "execution_count": 32,
     "metadata": {},
     "output_type": "execute_result"
    }
   ],
   "source": [
    "df_transformed.head()"
   ]
  }
 ],
 "metadata": {
  "kernelspec": {
   "display_name": ".venv",
   "language": "python",
   "name": "python3"
  },
  "language_info": {
   "codemirror_mode": {
    "name": "ipython",
    "version": 3
   },
   "file_extension": ".py",
   "mimetype": "text/x-python",
   "name": "python",
   "nbconvert_exporter": "python",
   "pygments_lexer": "ipython3",
   "version": "3.12.7"
  }
 },
 "nbformat": 4,
 "nbformat_minor": 5
}
