{
 "cells": [
  {
   "attachments": {},
   "cell_type": "markdown",
   "id": "71218024-7b0a-4436-9260-a685185ef8f1",
   "metadata": {},
   "source": [
    "---\n",
    "# Notebook para criação de encoders e gerar base transformada para ajustarmos o modelo \n",
    "\n",
    "---"
   ]
  },
  {
   "cell_type": "markdown",
   "id": "def62c9a-728e-468b-bd86-3e912b210c5b",
   "metadata": {},
   "source": [
    "# Imports"
   ]
  },
  {
   "cell_type": "code",
   "execution_count": 1,
   "id": "e5081206-ceb5-4ad2-9e02-143ad4fd2cd5",
   "metadata": {},
   "outputs": [],
   "source": [
    "import pandas as pd\n",
    "import numpy as np\n",
    "import os\n",
    "from pathlib import Path\n",
    "import warnings\n",
    "\n",
    "from src.utils.features_manager import get_features_by_property\n",
    "from src.utils.transformers import (\n",
    "    FeaturesType,\n",
    "    NumericMissing,\n",
    "    OptBinningEncoder,\n",
    "    BuildFeatures\n",
    ")\n",
    "\n",
    "# Configs Pandas\n",
    "pd.options.display.max_columns = None\n",
    "pd.options.display.max_colwidth = 200\n",
    "\n",
    "warnings.filterwarnings(\"ignore\")"
   ]
  },
  {
   "cell_type": "code",
   "execution_count": 2,
   "id": "f554cfd6-788e-4b54-addd-6160b40642e2",
   "metadata": {},
   "outputs": [],
   "source": [
    "project_root = Path().resolve().parents[0]"
   ]
  },
  {
   "cell_type": "code",
   "execution_count": 3,
   "id": "97c1e93c-ac25-4b81-b9fb-03ae759d0f58",
   "metadata": {},
   "outputs": [],
   "source": [
    "df = pd.read_parquet(os.path.join(project_root, \"data\", \"interim\", \"train.parquet\"))"
   ]
  },
  {
   "cell_type": "code",
   "execution_count": 4,
   "id": "6fa063fd",
   "metadata": {},
   "outputs": [],
   "source": [
    "features_config_path = os.path.join(project_root, \"src\", \"data\", \"config\", \"features.yaml\")"
   ]
  },
  {
   "cell_type": "markdown",
   "id": "5ebe6bfb",
   "metadata": {},
   "source": [
    "# Criando Encoders"
   ]
  },
  {
   "cell_type": "markdown",
   "id": "8375b653",
   "metadata": {},
   "source": [
    "## Features Types"
   ]
  },
  {
   "cell_type": "code",
   "execution_count": 5,
   "id": "524d2111",
   "metadata": {},
   "outputs": [],
   "source": [
    "features_dtypes = {\n",
    "    \"binary\": get_features_by_property(features_config_path, property_name=\"type\", property_value=\"binary\"),\n",
    "    \"categorical\": get_features_by_property(features_config_path, property_name=\"type\", property_value=\"categorical\"),\n",
    "    \"numerical\": get_features_by_property(features_config_path, property_name=\"type\", property_value=\"numerical\"),\n",
    "    \"datetime\": get_features_by_property(features_config_path, property_name=\"type\", property_value=\"datetime\")\n",
    "}\n",
    "\n",
    "for dtype in features_dtypes:\n",
    "    features_dtypes[dtype] = [\n",
    "        feature for feature in features_dtypes[dtype]\n",
    "        if feature in get_features_by_property(features_config_path, \"created\", False)\n",
    "        and feature in df.columns\n",
    "    ]\n",
    "\n",
    "features_type = FeaturesType(dtypes=features_dtypes)\n",
    "features_type.fit(df)\n",
    "df = features_type.transform(df)"
   ]
  },
  {
   "cell_type": "markdown",
   "id": "b0dd41f8",
   "metadata": {},
   "source": [
    "## Build Features"
   ]
  },
  {
   "cell_type": "code",
   "execution_count": 6,
   "id": "84bb2685",
   "metadata": {},
   "outputs": [],
   "source": [
    "ratio_features = [\n",
    "    feat for feat in get_features_by_property(features_config_path, property_name=\"role\", property_value=\"descriptive\") # descriptive features\n",
    "    if feat in get_features_by_property(features_config_path, property_name=\"type\", property_value=\"numerical\") # numerical features\n",
    "    and feat != \"monto\" # exclude target feature\n",
    "    and feat in df.columns # check if feature is in the dataframe \n",
    "]"
   ]
  },
  {
   "cell_type": "code",
   "execution_count": 7,
   "id": "ca49b6ba",
   "metadata": {},
   "outputs": [],
   "source": [
    "build_features = BuildFeatures(inference=False, ratio_features=ratio_features)\n",
    "build_features.fit(df)\n",
    "df = build_features.transform(df)"
   ]
  },
  {
   "cell_type": "markdown",
   "id": "0e3e2ae4",
   "metadata": {},
   "source": [
    "## Fill Numeric Missing"
   ]
  },
  {
   "cell_type": "code",
   "execution_count": 8,
   "id": "18cbc23a",
   "metadata": {},
   "outputs": [],
   "source": [
    "features_fill_numeric = get_features_by_property(features_config_path, \"fill_numeric_missing\", True)\n",
    "fill_numeric = NumericMissing(features_fill_numeric)\n",
    "fill_numeric.fit(df)\n",
    "df = fill_numeric.transform(df)"
   ]
  },
  {
   "cell_type": "markdown",
   "id": "c7320a9a",
   "metadata": {},
   "source": [
    "## OptBinningEncoding"
   ]
  },
  {
   "cell_type": "code",
   "execution_count": 9,
   "id": "9ffff4d4",
   "metadata": {},
   "outputs": [],
   "source": [
    "features_to_encode = get_features_by_property(yaml_path=features_config_path, property_name=\"encode\", property_value=True)\n",
    "string_encoder = OptBinningEncoder(features_to_encode)\n",
    "string_encoder.fit(df, df[\"fraude\"])\n",
    "df = string_encoder.transform(df)"
   ]
  },
  {
   "cell_type": "markdown",
   "id": "4d575aef",
   "metadata": {},
   "source": [
    "## Feature Selector"
   ]
  },
  {
   "cell_type": "code",
   "execution_count": 11,
   "id": "ff5eb050",
   "metadata": {},
   "outputs": [],
   "source": [
    "from sklearn.base import BaseEstimator, TransformerMixin\n",
    "\n",
    "class Selector(BaseEstimator, TransformerMixin):\n",
    "    def __init__(self, features):\n",
    "        self.features = features\n",
    "\n",
    "    def fit(self, X, y=None):\n",
    "        return self\n",
    "\n",
    "    def transform(self, X):\n",
    "        return X[self.features]"
   ]
  },
  {
   "cell_type": "code",
   "execution_count": 12,
   "id": "2b7169b0",
   "metadata": {},
   "outputs": [],
   "source": [
    "seletor = 'boruta'\n",
    "features_selected = get_features_by_property(yaml_path=features_config_path, property_name=f\"selected_by_{seletor}\", property_value=True)\n",
    "selector = Selector(features=features_selected)\n",
    "selector.fit(df)\n",
    "df = selector.transform(df)"
   ]
  },
  {
   "cell_type": "markdown",
   "id": "680ef269",
   "metadata": {},
   "source": [
    "# Executando encoders em sequência, para gerar base encodada\n",
    "\n",
    "Antes, vamos salvar as colunas auxiliares que serão utilizadas também."
   ]
  },
  {
   "cell_type": "code",
   "execution_count": 13,
   "id": "0b042538",
   "metadata": {},
   "outputs": [],
   "source": [
    "df = pd.read_parquet(os.path.join(project_root, \"data\", \"interim\", \"train.parquet\")) # recarregando o dataframe"
   ]
  },
  {
   "cell_type": "code",
   "execution_count": 14,
   "id": "0096aa08",
   "metadata": {},
   "outputs": [],
   "source": [
    "features_auxiliares = get_features_by_property(yaml_path=features_config_path, property_name=\"role\", property_value=\"auxiliary\")\n",
    "features_auxiliares = [feat for feat in features_auxiliares if feat in df.columns]\n",
    "df_aux = df[features_auxiliares].copy()"
   ]
  },
  {
   "cell_type": "code",
   "execution_count": 15,
   "id": "d5354f52",
   "metadata": {},
   "outputs": [],
   "source": [
    "transformers = {\n",
    "    \"feature_type\": features_type,\n",
    "    \"build_features\": build_features,\n",
    "    \"fill_numeric\": fill_numeric,\n",
    "    \"string_encoder\": string_encoder,\n",
    "    \"selector\": selector\n",
    "}"
   ]
  },
  {
   "cell_type": "code",
   "execution_count": 16,
   "id": "b0c05b70",
   "metadata": {},
   "outputs": [],
   "source": [
    "def apply_encoders_transformations(X, transformers, features_auxiliares):\n",
    "    \n",
    "    df_aux = df[features_auxiliares].copy()\n",
    "    \n",
    "    for name, transformer in transformers.items():\n",
    "        print(f\"Applying {name} transformation\")\n",
    "        X = transformer.transform(X)\n",
    "\n",
    "    X[features_auxiliares] = df_aux\n",
    "    \n",
    "    return X"
   ]
  },
  {
   "cell_type": "code",
   "execution_count": 17,
   "id": "141aeb9b",
   "metadata": {},
   "outputs": [
    {
     "name": "stdout",
     "output_type": "stream",
     "text": [
      "Applying feature_type transformation\n",
      "Applying build_features transformation\n",
      "Applying fill_numeric transformation\n",
      "Applying string_encoder transformation\n",
      "Applying selector transformation\n"
     ]
    }
   ],
   "source": [
    "df_transformed = apply_encoders_transformations(df, transformers, features_auxiliares)"
   ]
  },
  {
   "cell_type": "code",
   "execution_count": 18,
   "id": "97c18aa0",
   "metadata": {},
   "outputs": [
    {
     "data": {
      "text/plain": [
       "(114506, 3)"
      ]
     },
     "execution_count": 18,
     "metadata": {},
     "output_type": "execute_result"
    }
   ],
   "source": [
    "df_transformed.shape"
   ]
  }
 ],
 "metadata": {
  "kernelspec": {
   "display_name": ".venv",
   "language": "python",
   "name": "python3"
  },
  "language_info": {
   "codemirror_mode": {
    "name": "ipython",
    "version": 3
   },
   "file_extension": ".py",
   "mimetype": "text/x-python",
   "name": "python",
   "nbconvert_exporter": "python",
   "pygments_lexer": "ipython3",
   "version": "3.12.7"
  }
 },
 "nbformat": 4,
 "nbformat_minor": 5
}
