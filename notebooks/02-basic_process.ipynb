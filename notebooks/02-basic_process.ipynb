{
 "cells": [
  {
   "attachments": {},
   "cell_type": "markdown",
   "id": "71218024-7b0a-4436-9260-a685185ef8f1",
   "metadata": {},
   "source": [
    "---\n",
    "# Notebook para preparar os dados e construir novas variáveis\n",
    "---"
   ]
  },
  {
   "cell_type": "markdown",
   "id": "def62c9a-728e-468b-bd86-3e912b210c5b",
   "metadata": {},
   "source": [
    "# Imports"
   ]
  },
  {
   "cell_type": "code",
   "execution_count": 1,
   "id": "e5081206-ceb5-4ad2-9e02-143ad4fd2cd5",
   "metadata": {},
   "outputs": [],
   "source": [
    "import pandas as pd\n",
    "import numpy as np\n",
    "import os\n",
    "import datetime\n",
    "from pathlib import Path\n",
    "import warnings\n",
    "\n",
    "\n",
    "\n",
    "# Configs Pandas\n",
    "pd.options.display.max_columns = None\n",
    "pd.options.display.max_colwidth = 200\n",
    "\n",
    "warnings.filterwarnings(\"ignore\")"
   ]
  },
  {
   "cell_type": "code",
   "execution_count": 2,
   "id": "658f5bef",
   "metadata": {},
   "outputs": [],
   "source": [
    "from src.utils.features_manager import get_features_by_property"
   ]
  },
  {
   "cell_type": "code",
   "execution_count": 3,
   "id": "f554cfd6-788e-4b54-addd-6160b40642e2",
   "metadata": {},
   "outputs": [],
   "source": [
    "project_root = Path().resolve().parents[0]"
   ]
  },
  {
   "cell_type": "code",
   "execution_count": 4,
   "id": "97c1e93c-ac25-4b81-b9fb-03ae759d0f58",
   "metadata": {},
   "outputs": [],
   "source": [
    "df = pd.read_csv(os.path.join(project_root, \"data\", \"raw\", \"dados.csv\"))"
   ]
  },
  {
   "cell_type": "markdown",
   "id": "badcffa3",
   "metadata": {},
   "source": [
    "# Fix datatypes"
   ]
  },
  {
   "cell_type": "code",
   "execution_count": 5,
   "id": "f2bd7914",
   "metadata": {},
   "outputs": [],
   "source": [
    "features_config_path = os.path.join(project_root, \"src\", \"data\", \"config\", \"features.yaml\")"
   ]
  },
  {
   "cell_type": "code",
   "execution_count": 6,
   "id": "7ecb72cc",
   "metadata": {},
   "outputs": [],
   "source": [
    "dtypes = {\n",
    "    \"binary\": get_features_by_property(features_config_path, property_name=\"type\", property_value=\"binary\"),\n",
    "    \"categorical\": get_features_by_property(features_config_path, property_name=\"type\", property_value=\"categorical\"),\n",
    "    \"numerical\": get_features_by_property(features_config_path, property_name=\"type\", property_value=\"numerical\"),\n",
    "    \"datetime\": get_features_by_property(features_config_path, property_name=\"type\", property_value=\"datetime\")\n",
    "}\n",
    "\n",
    "for dtype in dtypes:\n",
    "    dtypes[dtype] = [feature for feature in dtypes[dtype] if feature in get_features_by_property(features_config_path, property_name=\"created\", property_value=False)]"
   ]
  },
  {
   "cell_type": "code",
   "execution_count": 7,
   "id": "badef671",
   "metadata": {},
   "outputs": [],
   "source": [
    "from sklearn.base import BaseEstimator, TransformerMixin\n",
    "\n",
    "class FeaturesType(BaseEstimator, TransformerMixin):\n",
    "    \n",
    "    def __init__(self, dtypes):\n",
    "        self.map_dtypes = {\n",
    "            np.float64: dtypes[\"numerical\"],\n",
    "            np.float32: dtypes[\"binary\"],\n",
    "            str: dtypes[\"categorical\"],\n",
    "            \"datetime64[ns]\": dtypes[\"datetime\"]\n",
    "        }\n",
    "\n",
    "\n",
    "    def fit(self, X, y=None):\n",
    "        return self\n",
    "    \n",
    "    def transform(self, X, y=None):\n",
    "        for dtype in self.map_dtypes:\n",
    "            for feature in self.map_dtypes[dtype]:\n",
    "                if X[feature].dtype != dtype:\n",
    "                    X[feature] = X[feature].astype(dtype)        \n",
    "    \n",
    "        return X\n",
    "    \n",
    "    def fit_transform(self, X, y=None):\n",
    "        return self.fit(X).transform(X)"
   ]
  },
  {
   "cell_type": "code",
   "execution_count": 8,
   "id": "b7474677",
   "metadata": {},
   "outputs": [],
   "source": [
    "encoder = FeaturesType(dtypes)\n",
    "df = encoder.fit_transform(df)"
   ]
  },
  {
   "cell_type": "code",
   "execution_count": 9,
   "id": "13ad3355",
   "metadata": {},
   "outputs": [
    {
     "data": {
      "text/plain": [
       "a                float64\n",
       "b                float64\n",
       "c                float64\n",
       "d                float64\n",
       "e                float64\n",
       "f                float64\n",
       "g                 object\n",
       "h                float64\n",
       "i                 object\n",
       "j                 object\n",
       "k                float64\n",
       "l                float64\n",
       "m                float64\n",
       "n                float32\n",
       "o                 object\n",
       "p                 object\n",
       "fecha     datetime64[ns]\n",
       "monto            float64\n",
       "score              int64\n",
       "fraude             int64\n",
       "dtype: object"
      ]
     },
     "execution_count": 9,
     "metadata": {},
     "output_type": "execute_result"
    }
   ],
   "source": [
    "df.dtypes"
   ]
  },
  {
   "cell_type": "markdown",
   "id": "e7a7d4ed",
   "metadata": {},
   "source": [
    "# Missings"
   ]
  },
  {
   "cell_type": "markdown",
   "id": "ccdb8c78",
   "metadata": {},
   "source": [
    "## Numerical"
   ]
  },
  {
   "cell_type": "code",
   "execution_count": 10,
   "id": "57cfce08",
   "metadata": {},
   "outputs": [],
   "source": [
    "features_num_missing = get_features_by_property(features_config_path, property_name=\"fill_numeric_missing\", property_value=True)"
   ]
  },
  {
   "cell_type": "code",
   "execution_count": 11,
   "id": "5a31adb0",
   "metadata": {},
   "outputs": [],
   "source": [
    "from sklearn.base import BaseEstimator, TransformerMixin\n",
    "\n",
    "class NumericMissing(BaseEstimator, TransformerMixin):\n",
    "    \"\"\"Classe responsável por tratar valores faltantes em variáveis numéricas.\n",
    "       Faremos a imputação dos valores faltantes com o valor -10.0, uma vez que não pertence a nenhum dominio.\n",
    "    \"\"\"\n",
    "    def __init__(self, num_features):\n",
    "        self.features = num_features\n",
    "\n",
    "    def fit(self, X, y=None):\n",
    "        return self\n",
    "    \n",
    "    def transform(self, X, y=None):\n",
    "        for feature in self.features:\n",
    "            X[feature] = X[feature].fillna(-10.)\n",
    "    \n",
    "        return X\n",
    "    \n",
    "    def fit_transform(self, X, y=None):\n",
    "        return self.fit(X).transform(X)"
   ]
  },
  {
   "cell_type": "code",
   "execution_count": 12,
   "id": "83a467a6",
   "metadata": {},
   "outputs": [],
   "source": [
    "encoder = NumericMissing(features_num_missing)\n",
    "df = encoder.fit_transform(df)"
   ]
  },
  {
   "cell_type": "code",
   "execution_count": 13,
   "id": "178b2f56",
   "metadata": {},
   "outputs": [
    {
     "data": {
      "text/plain": [
       "b    0\n",
       "c    0\n",
       "d    0\n",
       "e    0\n",
       "f    0\n",
       "g    0\n",
       "l    0\n",
       "m    0\n",
       "o    0\n",
       "dtype: int64"
      ]
     },
     "execution_count": 13,
     "metadata": {},
     "output_type": "execute_result"
    }
   ],
   "source": [
    "df[features_num_missing].isnull().sum()"
   ]
  },
  {
   "cell_type": "markdown",
   "id": "08e9a814",
   "metadata": {},
   "source": [
    "## Categorical"
   ]
  },
  {
   "cell_type": "markdown",
   "id": "6d6ab966",
   "metadata": {},
   "source": [
    "Vamos manter os missings por enquanto, uma vez que o próprio OptBinning já faz a definição dos missings em um bin."
   ]
  },
  {
   "cell_type": "markdown",
   "id": "289f2580-3ec6-4786-8129-31274be49c69",
   "metadata": {},
   "source": [
    "# Criando semana do ano"
   ]
  },
  {
   "cell_type": "code",
   "execution_count": 15,
   "id": "f9a6d881-aa48-42c8-b2a9-263d828a3731",
   "metadata": {},
   "outputs": [],
   "source": [
    "def get_week_from_date(date: datetime.date) -> int:\n",
    "    \"\"\"\n",
    "    Retorna o número da semana do ano para uma data específica.\n",
    "    \n",
    "    Args:\n",
    "        date (datetime.date): Data para extrair a semana.\n",
    "    \n",
    "    Returns:\n",
    "        int: Número da semana do ano (1-53).\n",
    "    \"\"\"\n",
    "    return date.isocalendar()[1]\n",
    "\n",
    "df['date'] = pd.to_datetime(df['fecha']).dt.date\n",
    "df['week_of_the_year'] = df['date'].apply(lambda row: get_week_from_date(row))"
   ]
  }
 ],
 "metadata": {
  "kernelspec": {
   "display_name": ".venv",
   "language": "python",
   "name": "python3"
  },
  "language_info": {
   "codemirror_mode": {
    "name": "ipython",
    "version": 3
   },
   "file_extension": ".py",
   "mimetype": "text/x-python",
   "name": "python",
   "nbconvert_exporter": "python",
   "pygments_lexer": "ipython3",
   "version": "3.12.7"
  }
 },
 "nbformat": 4,
 "nbformat_minor": 5
}
